{
  "nbformat": 4,
  "nbformat_minor": 0,
  "metadata": {
    "colab": {
      "provenance": []
    },
    "kernelspec": {
      "name": "python3",
      "display_name": "Python 3"
    },
    "language_info": {
      "name": "python"
    }
  },
  "cells": [
    {
      "cell_type": "code",
      "execution_count": null,
      "metadata": {
        "id": "xF54kZux6ToT"
      },
      "outputs": [],
      "source": [
        "!pip install shexer"
      ]
    },
    {
      "cell_type": "markdown",
      "source": [
        "# shape maps\n",
        "\n",
        "Shape maps are an element used in ShEx to indicate which nodes should validated with which shapes.\n",
        "\n",
        "In sheXer, we use shape maps for indicating which nodes should be used to extrac which shapes.\n",
        "\n",
        "Even shape maps does not exist in SHACL, here you can use them to generated SHACL outputs.\n",
        "\n",
        "There are three types of node selectors:\n",
        "* Single nodes\n",
        "* Focus expressions\n",
        "* SPARQL queries\n",
        "\n",
        "Single nodes and focus expressions are defined in shape map's spec:\n",
        "[https://shex.io/shape-map/](https://shex.io/shape-map/)\n",
        "\n",
        "SPARQL node selectors are a extension currently not included in the spec but supported by sheXer\n"
      ],
      "metadata": {
        "id": "Bpd4PwYh6V0r"
      }
    },
    {
      "cell_type": "code",
      "source": [
        "from shexer.shaper import Shaper\n",
        "from shexer.consts import TURTLE, FIXED_SHAPE_MAP, JSON, SHACL_TURTLE\n",
        "import requests\n",
        "\n",
        "def remote_to_local(url, local_path):\n",
        "  response = requests.get(url)\n",
        "  if response.status_code == 200:\n",
        "      with open(local_path, \"w\", encoding=\"utf-8\") as out_stream:\n",
        "          out_stream.write(response.text)\n",
        "\n",
        "def default_namespaces():\n",
        "    return {\"http://example.org/\": \"ex\",\n",
        "            \"http://www.w3.org/XML/1998/namespace/\": \"xml\",\n",
        "            \"http://www.w3.org/1999/02/22-rdf-syntax-ns#\": \"rdf\",\n",
        "            \"http://www.w3.org/2000/01/rdf-schema#\": \"rdfs\",\n",
        "            \"http://www.w3.org/2001/XMLSchema#\": \"xsd\",\n",
        "            \"http://xmlns.com/foaf/0.1/\": \"foaf\"\n",
        "            }"
      ],
      "metadata": {
        "id": "6wnm4qXi-AYP"
      },
      "execution_count": 16,
      "outputs": []
    },
    {
      "cell_type": "code",
      "source": [
        "# In this case, I'm extracting a single shape using as example a single node\n",
        "\n",
        "remote_to_local(\"https://raw.githubusercontent.com/weso/shexer/refs/heads/master/test/t_files/t_graph_1.ttl\",\n",
        "                \"local_file.ttl\")\n",
        "\n",
        "\n",
        "shape_map = \"<http://example.org/Jimmy>@<Person>\"  # Fixed shape map, as defined in shape map's spec\n",
        "\n",
        "shaper = Shaper(graph_file_input=\"./local_file.ttl\",\n",
        "                namespaces_dict=default_namespaces(),\n",
        "                all_classes_mode=False,\n",
        "                input_format=TURTLE,\n",
        "                shape_map_raw=shape_map,  # Parameter to provide a the shape map\n",
        "                shape_map_format=FIXED_SHAPE_MAP  # Parameter to provide shape map's format. This is the default value\n",
        "                )\n",
        "str_result = shaper.shex_graph(string_output=True)\n",
        "print(str_result)\n",
        "\n",
        "print(\"--------------\")\n",
        "\n",
        "str_result = shaper.shex_graph(string_output=True, output_format=SHACL_TURTLE)  # Same computation, but results in SHACL\n",
        "print(str_result)\n",
        "\n"
      ],
      "metadata": {
        "id": "SaJEeuEg7FHd"
      },
      "execution_count": null,
      "outputs": []
    },
    {
      "cell_type": "code",
      "source": [
        "# This is the very same case, but we are using JSON syntax for the shape map instead\n",
        "\n",
        "shape_map = '[{\"nodeSelector\" : \"<http://example.org/Jimmy>\", \"shapeLabel\": \"<Person>\"}]'\n",
        "shaper = Shaper(graph_file_input=\"./local_file.ttl\",\n",
        "                namespaces_dict=default_namespaces(),\n",
        "                all_classes_mode=False,\n",
        "                input_format=TURTLE,\n",
        "                shape_map_raw=shape_map,  # Still using the same parameter to provide the shape map\n",
        "                shape_map_format=JSON  # All other settings remain the same except for this\n",
        "                )\n",
        "str_result = shaper.shex_graph(string_output=True)\n",
        "print(str_result)"
      ],
      "metadata": {
        "id": "rOzr8MQp-rdB"
      },
      "execution_count": null,
      "outputs": []
    },
    {
      "cell_type": "code",
      "source": [
        "# In case you are using URIs whose namespace is included in the namespaces list,\n",
        "# you can write less verbose shape maps, both fixed and in JSON syntax.\n",
        "# Prefixes will be understood\n",
        "\n",
        "shape_map = '[{\"nodeSelector\" : \"ex:Jimmy\", \"shapeLabel\": \"<Person>\"}]'\n",
        "shaper = Shaper(graph_file_input=\"./local_file.ttl\",\n",
        "                namespaces_dict=default_namespaces(),  # In this list, the \"ex\" prefix is defined\n",
        "                all_classes_mode=False,\n",
        "                input_format=TURTLE,\n",
        "                shape_map_raw=shape_map,\n",
        "                shape_map_format=JSON\n",
        "                )\n",
        "str_result = shaper.shex_graph(string_output=True)\n",
        "print(str_result)"
      ],
      "metadata": {
        "id": "BiCPe4AX_UNa"
      },
      "execution_count": null,
      "outputs": []
    },
    {
      "cell_type": "code",
      "source": [
        "# Alternative node selector. In this case, we are using FOCUS expressions.\n",
        "# Here we are extracting a shape <Person> using all instances of foaf:Person\n",
        "\n",
        "shape_map = '[{\"nodeSelector\" : \"{FOCUS a foaf:Person}\", \"shapeLabel\": \"<Person>\"}]'\n",
        "shaper = Shaper(graph_file_input=\"./local_file.ttl\",\n",
        "                namespaces_dict=default_namespaces(),\n",
        "                all_classes_mode=False,\n",
        "                input_format=TURTLE,\n",
        "                shape_map_raw=shape_map,\n",
        "                shape_map_format=JSON\n",
        "                )\n",
        "str_result = shaper.shex_graph(string_output=True)\n",
        "print(str_result)\n",
        "\n",
        "str_result = shaper.shex_graph(string_output=True)\n",
        "print(str_result)"
      ],
      "metadata": {
        "id": "h0M1wu8c_ziy"
      },
      "execution_count": null,
      "outputs": []
    },
    {
      "cell_type": "code",
      "source": [
        "# In this case, a shapa called <WithName> for every node having a foaf:name\n",
        "\n",
        "shape_map = '[{\"nodeSelector\" : \"{FOCUS foaf:name _}\", \"shapeLabel\": \"<WithName>\"}]'\n",
        "shaper = Shaper(graph_file_input=\"./local_file.ttl\",\n",
        "                namespaces_dict=default_namespaces(),\n",
        "                all_classes_mode=False,\n",
        "                input_format=TURTLE,\n",
        "                shape_map_raw=shape_map,\n",
        "                shape_map_format=JSON\n",
        "                )\n",
        "str_result = shaper.shex_graph(string_output=True)\n",
        "print(str_result)"
      ],
      "metadata": {
        "id": "eiWwzh_LAIVD"
      },
      "execution_count": null,
      "outputs": []
    },
    {
      "cell_type": "code",
      "source": [
        "# Now we are using a feature of shape maps which is not currently part of the standard\n",
        "# sheXer allows for defining node selectors which are SPARQL queries.\n",
        "# It works both in ShEx and SHACL.\n",
        "\n",
        "# Any query will work as long as its result is single-column\n",
        "\n",
        "shape_map = '[{\"nodeSelector\" : \"SPARQL \\'select ?p where { ?p a foaf:Person }\\'\", \"shapeLabel\": \"<Person>\"}]'\n",
        "shaper = Shaper(graph_file_input=\"./local_file.ttl\",\n",
        "                namespaces_dict=default_namespaces(),\n",
        "                all_classes_mode=False,\n",
        "                input_format=TURTLE,\n",
        "                shape_map_raw=shape_map,\n",
        "                shape_map_format=JSON\n",
        "                )\n",
        "str_result = shaper.shex_graph(string_output=True)\n",
        "print(str_result)\n",
        "\n",
        "print(\"------------------------------------\")\n",
        "\n",
        "str_result = shaper.shex_graph(string_output=True, output_format=SHACL_TURTLE)\n",
        "# Note that, in SHACL outputs, the targets both for FOCUS expressions selectors\n",
        "# and SPARQL selectors will be expressed with N sh:targetNode declarations.\n",
        "# In both cases, those nodes are the results of the query or the FOCUS expression\n",
        "print(str_result)"
      ],
      "metadata": {
        "id": "KgTF_Dx7Ruzl"
      },
      "execution_count": null,
      "outputs": []
    }
  ]
}