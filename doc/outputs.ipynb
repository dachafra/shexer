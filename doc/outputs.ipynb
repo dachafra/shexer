{
  "nbformat": 4,
  "nbformat_minor": 0,
  "metadata": {
    "colab": {
      "provenance": []
    },
    "kernelspec": {
      "name": "python3",
      "display_name": "Python 3"
    },
    "language_info": {
      "name": "python"
    }
  },
  "cells": [
    {
      "cell_type": "code",
      "execution_count": null,
      "metadata": {
        "id": "0HH1fi9Iuvmz"
      },
      "outputs": [],
      "source": [
        "!pip install shexer"
      ]
    },
    {
      "cell_type": "markdown",
      "source": [
        "sheXer can generate different types of outputs:\n",
        "* SheX (in compact syntax)\n",
        "* SHACL (in turtle)\n",
        "* Statistics (as annotations in ShEx)\n",
        "* Examples of conformance (as annotations in ShEx).\n",
        "* UML visualizations.\n",
        "* RDF-Config files\n",
        "* Shapes for federation.\n",
        "\n",
        "In this notebook, we provide some examples on how to produce them all."
      ],
      "metadata": {
        "id": "pEaY9geKvBW9"
      }
    },
    {
      "cell_type": "code",
      "source": [
        "from shexer.shaper import Shaper\n",
        "from shexer.consts import TURTLE_ITER, SHACL_TURTLE, SHEXC, SHAPE_EXAMPLES, CONSTRAINT_EXAMPLES, ALL_EXAMPLES, RATIO_INSTANCES, ABSOLUTE_INSTANCES, MIXED_INSTANCES\n",
        "import requests\n",
        "\n",
        "def remote_to_local(url, local_path):\n",
        "  response = requests.get(url)\n",
        "  if response.status_code == 200:\n",
        "      with open(local_path, \"w\", encoding=\"utf-8\") as out_stream:\n",
        "          out_stream.write(response.text)\n",
        "\n",
        "INPUT_GRPAH_PATH = \"local_file.ttl\"\n",
        "def default_namespaces():\n",
        "    return {\"http://example.org/\": \"ex\",\n",
        "            \"http://www.w3.org/XML/1998/namespace/\": \"xml\",\n",
        "            \"http://www.w3.org/1999/02/22-rdf-syntax-ns#\": \"rdf\",\n",
        "            \"http://www.w3.org/2000/01/rdf-schema#\": \"rdfs\",\n",
        "            \"http://www.w3.org/2001/XMLSchema#\": \"xsd\",\n",
        "            \"http://xmlns.com/foaf/0.1/\": \"foaf\"\n",
        "            }\n",
        "\n",
        "remote_to_local(\"https://raw.githubusercontent.com/weso/shexer/refs/heads/master/test/t_files/t_graph_1.ttl\",\n",
        "                INPUT_GRPAH_PATH)\n",
        "\n",
        "print(\"# We will work with this graph:\\n\")\n",
        "\n",
        "with open(INPUT_GRPAH_PATH) as out_stream:\n",
        "  print(out_stream.read())"
      ],
      "metadata": {
        "id": "8E-z512uvA1N"
      },
      "execution_count": null,
      "outputs": []
    },
    {
      "cell_type": "code",
      "source": [
        "# Generation of SHACL to file\n",
        "\n",
        "shaper = Shaper(\n",
        "    graph_file_input=INPUT_GRPAH_PATH,\n",
        "    namespaces_dict=default_namespaces(),\n",
        "    all_classes_mode=True,\n",
        "    input_format=TURTLE_ITER)\n",
        "shaper.shex_graph(output_file=\"shacl_shapes.ttl\",  # Provide a disk path to save the results with this parameter\n",
        "                  output_format=SHACL_TURTLE) # Set this param with this value to generate SHACL shapes\n",
        "\n",
        "with open(\"shacl_shapes.ttl\") as in_stream:\n",
        "  print(in_stream.read())  # Just checking the content of the file generated\n",
        "\n"
      ],
      "metadata": {
        "id": "nrPGJ8Gvvy9V"
      },
      "execution_count": null,
      "outputs": []
    },
    {
      "cell_type": "code",
      "source": [
        "# Same thing, but without saving to file. Instead, result returned as string\n",
        "\n",
        "shaper = Shaper(\n",
        "    graph_file_input=INPUT_GRPAH_PATH,\n",
        "    namespaces_dict=default_namespaces(),\n",
        "    all_classes_mode=True,\n",
        "    input_format=TURTLE_ITER)\n",
        "result = shaper.shex_graph(string_output=True,  # If you set this to True, the method will return string\n",
        "                           output_format=SHACL_TURTLE) # you can indicate a fiel anyway. If you do, the results will be saved to disk regardless of wheter they were returned in a string\n",
        "\n",
        "print(result)\n",
        "print(\"---------------------------\")\n",
        "with open(\"shacl_shapes.ttl\") as in_stream:\n",
        "  print(in_stream.read())  # Just checking the content of the file generated"
      ],
      "metadata": {
        "id": "54C7obbkx3jT"
      },
      "execution_count": null,
      "outputs": []
    },
    {
      "cell_type": "code",
      "source": [
        "# Same input graph, but now we generate results in ShEx\n",
        "shaper = Shaper(\n",
        "    graph_file_input=INPUT_GRPAH_PATH,\n",
        "    namespaces_dict=default_namespaces(),\n",
        "    all_classes_mode=True,\n",
        "    input_format=TURTLE_ITER)\n",
        "result = shaper.shex_graph(string_output=True,\n",
        "                           output_format=SHEXC) # SHEXC is the default value. If you dont set this parameter, results will be generated in ShEx.\n",
        "print(result)\n"
      ],
      "metadata": {
        "id": "DG-XesT6yg9j"
      },
      "execution_count": null,
      "outputs": []
    },
    {
      "cell_type": "code",
      "source": [
        "# Note that ShEx outputs are commented with statistical information.\n",
        "# We can disable such information and just get shapes\n",
        "\n",
        "\n",
        "shaper = Shaper(\n",
        "    graph_file_input=INPUT_GRPAH_PATH,\n",
        "    namespaces_dict=default_namespaces(),\n",
        "    all_classes_mode=True,\n",
        "    disable_comments=True,  # Use this to avoid getting comments on shapes.\n",
        "    input_format=TURTLE_ITER)\n",
        "result = shaper.shex_graph(string_output=True)\n",
        "print(result)\n"
      ],
      "metadata": {
        "id": "35kIg1dMy-WU"
      },
      "execution_count": null,
      "outputs": []
    },
    {
      "cell_type": "code",
      "source": [
        "# We could also make comments even richer. shapes can be annotated with examples\n",
        "# at constraint level (examples of nodes matching node constraints)\n",
        "# or at shape level (examples nodes matching shapes).\n",
        "\n",
        "# You can get only shapes\n",
        "shaper = Shaper(\n",
        "    graph_file_input=INPUT_GRPAH_PATH,\n",
        "    namespaces_dict=default_namespaces(),\n",
        "    all_classes_mode=True,\n",
        "    disable_comments=False,  # Default value, you could just omit this when it is False\n",
        "    input_format=TURTLE_ITER,\n",
        "    examples_mode=SHAPE_EXAMPLES) # Ste this parameter to some of the values allowed to get shapes annotated with examples\n",
        "result = shaper.shex_graph(string_output=True)\n",
        "print(\"_______examples at shape level________\")\n",
        "print(result)\n",
        "\n",
        "# ... only constraints\n",
        "shaper = Shaper(\n",
        "    graph_file_input=INPUT_GRPAH_PATH,\n",
        "    namespaces_dict=default_namespaces(),\n",
        "    all_classes_mode=True,\n",
        "    disable_comments=False,  # Default value, you could just omit this when it is False\n",
        "    input_format=TURTLE_ITER,\n",
        "    examples_mode=CONSTRAINT_EXAMPLES) # Ste this parameter to some of the values allowed to get shapes annotated with examples\n",
        "result = shaper.shex_graph(string_output=True)\n",
        "print(\"_______examples at constraint level________\")\n",
        "print(result)\n",
        "\n",
        "# ... or both things at a time.\n",
        "shaper = Shaper(\n",
        "    graph_file_input=INPUT_GRPAH_PATH,\n",
        "    namespaces_dict=default_namespaces(),\n",
        "    all_classes_mode=True,\n",
        "    disable_comments=False,  # Default value, you could just omit this when it is False\n",
        "    input_format=TURTLE_ITER,\n",
        "    examples_mode=ALL_EXAMPLES) # Ste this parameter to some of the values allowed to get shapes annotated with examples\n",
        "result = shaper.shex_graph(string_output=True)\n",
        "print(\"_______examples at ALL level________\")\n",
        "print(result)"
      ],
      "metadata": {
        "id": "gxVueGRWzRV6"
      },
      "execution_count": null,
      "outputs": []
    },
    {
      "cell_type": "code",
      "source": [
        "# You can also tune if you want absolute, relative or both types for the generated stats\n",
        "\n",
        "# Relative\n",
        "shaper = Shaper(\n",
        "    graph_file_input=INPUT_GRPAH_PATH,\n",
        "    namespaces_dict=default_namespaces(),\n",
        "    all_classes_mode=True,\n",
        "    input_format=TURTLE_ITER,\n",
        "    instances_report_mode=RATIO_INSTANCES) # Default value, you could omit this in case you prefer ratio\n",
        "result = shaper.shex_graph(string_output=True)\n",
        "print(\"_______Relative stats________\")\n",
        "print(result)\n",
        "\n",
        "# Absolute\n",
        "shaper = Shaper(\n",
        "    graph_file_input=INPUT_GRPAH_PATH,\n",
        "    namespaces_dict=default_namespaces(),\n",
        "    all_classes_mode=True,\n",
        "    input_format=TURTLE_ITER,\n",
        "    instances_report_mode=ABSOLUTE_INSTANCES) # For absolute values\n",
        "result = shaper.shex_graph(string_output=True)\n",
        "print(\"_______Absolute stats________\")\n",
        "print(result)\n",
        "\n",
        "# Both\n",
        "shaper = Shaper(\n",
        "    graph_file_input=INPUT_GRPAH_PATH,\n",
        "    namespaces_dict=default_namespaces(),\n",
        "    all_classes_mode=True,\n",
        "    input_format=TURTLE_ITER,\n",
        "    instances_report_mode=MIXED_INSTANCES) # For both at a time\n",
        "result = shaper.shex_graph(string_output=True)\n",
        "print(\"_______Both stat types________\")\n",
        "print(result)"
      ],
      "metadata": {
        "id": "p9Q8cY9O2DKS"
      },
      "execution_count": null,
      "outputs": []
    },
    {
      "cell_type": "code",
      "source": [
        "# Lets generate now UML visualizations instead of shapes\n",
        "\n",
        "from PIL import Image\n",
        "from IPython.display import display\n",
        "\n",
        "UML_PATH = 'uml_shapes.jpg'\n",
        "\n",
        "\n",
        "shaper = Shaper(\n",
        "    graph_file_input=INPUT_GRPAH_PATH,\n",
        "    namespaces_dict=default_namespaces(),\n",
        "    all_classes_mode=True,\n",
        "    input_format=TURTLE_ITER)\n",
        "shaper.shex_graph(to_uml_path=UML_PATH)  # Just set a value for this parameter and the visualization will be generated\n",
        "\n",
        "image = Image.open(UML_PATH)\n",
        "display(image)"
      ],
      "metadata": {
        "id": "pt-E6e0o-tDN"
      },
      "execution_count": null,
      "outputs": []
    },
    {
      "cell_type": "code",
      "source": [
        "# Let's generate now RDF-Config files. Read about RDF-Config at: https://github.com/dbcls/rdf-config\n",
        "# 3 RDF-Config files are generated. model, prefixes and endpoint. In case we\n",
        "# use RDF input instead of SPARQL endpoints (as in this case), endpont.yaml won't be generated\n",
        "# You must tell sheXer the directory in which you want the files to be writen\n",
        "# but you can also obtain the output via string.\n",
        "\n",
        "TARGET_DIR = \".\"\n",
        "\n",
        "shaper = Shaper(graph_file_input=INPUT_GRPAH_PATH,\n",
        "                all_classes_mode=True,\n",
        "                input_format=TURTLE_ITER,\n",
        "                namespaces_dict=default_namespaces(),\n",
        "                examples_mode=ALL_EXAMPLES,  # When generating RDF-COnfig files, make sure to add this, as examples are a core part of the RDF-Config YAML files\n",
        "                                             # and sheXer won't track them unless it is told to do so.\n",
        "                instances_report_mode=MIXED_INSTANCES)\n",
        "\n",
        "\n",
        "result = shaper.shex_graph(rdfconfig_directory=TARGET_DIR, # Set this property to some value to generate rdf-config files\n",
        "                            string_output=True)\n",
        "\n",
        "print(result)\n",
        "\n"
      ],
      "metadata": {
        "id": "XhlOqU3MAC39"
      },
      "execution_count": null,
      "outputs": []
    },
    {
      "cell_type": "markdown",
      "source": [
        "# Shapes for federated queries\n",
        "\n",
        "sheXer can also generate some shapes which are meant to be used to document\n",
        "structures in scenarios of potential federated queries.\n",
        "\n",
        "Such feature requires to instantiate an object with several parameters and\n",
        "it is explained in a standalone example. Check it at [this link](https://github.com/weso/shexer/blob/master/doc/Example_federated_shapes.ipynb)"
      ],
      "metadata": {
        "id": "7NUljguyBy_J"
      }
    }
  ]
}